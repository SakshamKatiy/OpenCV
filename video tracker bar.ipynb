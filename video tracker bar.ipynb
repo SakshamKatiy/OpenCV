{
 "cells": [
  {
   "cell_type": "code",
   "execution_count": 4,
   "id": "9e0b5a93-5042-4f00-9ed2-0755f24a3a12",
   "metadata": {},
   "outputs": [],
   "source": [
    "import cv2\n",
    "import numpy as np\n",
    "cap = cv2.VideoCapture(0)\n",
    "def video(x):\n",
    "    pass\n",
    "cv2.namedWindow('sak')\n",
    "cv2.createTrackbar('R','sak',0,255,video)\n",
    "cv2.createTrackbar('G','sak',0,255,video)\n",
    "cv2.createTrackbar('B','sak',0,255,video)\n",
    "\n",
    "cv2.createTrackbar('UR','sak',255,255,video)\n",
    "cv2.createTrackbar('UG','sak',255,255,video)\n",
    "cv2.createTrackbar('UB','sak',255,255,video)\n",
    "while cap.isOpened:\n",
    "    r,frame = cap.read()\n",
    "    if r == True:\n",
    "        img = cv2.resize(frame,(400,300))\n",
    "        img_hsv = cv2.cvtColor(img,cv2.COLOR_BGR2HSV)\n",
    "        Lb = cv2.getTrackbarPos('R','sak')\n",
    "        Lg = cv2.getTrackbarPos('G','sak')\n",
    "        Lr = cv2.getTrackbarPos('B','sak')\n",
    "        \n",
    "        Ub = cv2.getTrackbarPos('UR','sak')\n",
    "        Ug = cv2.getTrackbarPos('UG','sak')\n",
    "        Ur = cv2.getTrackbarPos('UB','sak')\n",
    "        lo = np.array([Lb,Lg,Lr])\n",
    "        up = np.array([Ub,Ug,Ur])\n",
    "        masks = cv2.inRange(img_hsv,lo,up)\n",
    "        res = cv2.bitwise_and(img,img,mask = masks)\n",
    "        cv2.imshow('res',res)\n",
    "        cv2.imshow('mask',masks)\n",
    "        cv2.imshow('hsv',img_hsv)\n",
    "        cv2.imshow('sak',img)\n",
    "        if cv2.waitKey(1) & 0xff == ord(\"p\"):\n",
    "            break\n",
    "    else:\n",
    "        break\n",
    "cap.release()\n",
    "cv2.destroyAllWindows()\n",
    "\n",
    "\n"
   ]
  },
  {
   "cell_type": "code",
   "execution_count": null,
   "id": "43f4833c-120c-4d46-b738-14470a7d4e8d",
   "metadata": {},
   "outputs": [],
   "source": []
  }
 ],
 "metadata": {
  "kernelspec": {
   "display_name": "Python 3 (ipykernel)",
   "language": "python",
   "name": "python3"
  },
  "language_info": {
   "codemirror_mode": {
    "name": "ipython",
    "version": 3
   },
   "file_extension": ".py",
   "mimetype": "text/x-python",
   "name": "python",
   "nbconvert_exporter": "python",
   "pygments_lexer": "ipython3",
   "version": "3.12.5"
  }
 },
 "nbformat": 4,
 "nbformat_minor": 5
}
