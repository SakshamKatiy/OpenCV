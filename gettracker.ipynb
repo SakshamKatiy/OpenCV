{
 "cells": [
  {
   "cell_type": "code",
   "execution_count": 2,
   "id": "396eaade-75ae-4aca-9e34-29ba008a8fdf",
   "metadata": {},
   "outputs": [],
   "source": [
    "import cv2\n",
    "import numpy as np"
   ]
  },
  {
   "cell_type": "code",
   "execution_count": 3,
   "id": "f6ea5517-3b1b-432b-91f7-85593d70dfe4",
   "metadata": {},
   "outputs": [],
   "source": [
    "# img = np.zeros((500,500,3),np.uint8)*255\n",
    "img = cv2.imread(r\"C:\\Users\\saksh\\Downloads\\sakshi.jpg\")\n",
    "img = cv2.resize(img,(500,500))\n",
    "\n",
    "def fun(x):\n",
    "    pass\n",
    "cv2.namedWindow('color')\n",
    "a = cv2.createTrackbar('R','color',0,255,fun)\n",
    "b = cv2.createTrackbar('G','color',0,255,fun)\n",
    "c = cv2.createTrackbar('B','color',0,255,fun)\n",
    "\n",
    "d = cv2.createTrackbar('rp','color',0,255,fun)\n",
    "e = cv2.createTrackbar('gp','color',0,255,fun)\n",
    "f = cv2.createTrackbar('bp','color',0,255,fun)\n",
    "while True:\n",
    "    img_hsv = cv2.cvtColor(img,cv2.COLOR_BGR2HSV)\n",
    "    ap = cv2.getTrackbarPos('R','color')\n",
    "    bp = cv2.getTrackbarPos('G','color')\n",
    "    cp = cv2.getTrackbarPos('B','color')\n",
    "    al = cv2.getTrackbarPos('rp','color')\n",
    "    bl = cv2.getTrackbarPos('gp','color')\n",
    "    cl = cv2.getTrackbarPos('bp','color')\n",
    "    lb = np.array([ap,bp,cp])\n",
    "    up = np.array([bl,cl,al])\n",
    "    img_mask = cv2.inRange(img_hsv,lb,up)\n",
    "    img_apply = cv2.bitwise_and(img,img,mask =img_mask)\n",
    "    cv2.imshow('color',img_hsv)\n",
    "    cv2.imshow('mask',img_mask)\n",
    "    cv2.imshow('color',img_apply)\n",
    "    if cv2.waitKey(1) & 0xff == ord(\"p\"):\n",
    "        break \n",
    "cv2.destroyAllWindows()\n",
    "    \n"
   ]
  },
  {
   "cell_type": "code",
   "execution_count": null,
   "id": "80b5c9b3-2f32-49b8-a39e-93f4827ccb78",
   "metadata": {},
   "outputs": [],
   "source": []
  }
 ],
 "metadata": {
  "kernelspec": {
   "display_name": "Python 3 (ipykernel)",
   "language": "python",
   "name": "python3"
  },
  "language_info": {
   "codemirror_mode": {
    "name": "ipython",
    "version": 3
   },
   "file_extension": ".py",
   "mimetype": "text/x-python",
   "name": "python",
   "nbconvert_exporter": "python",
   "pygments_lexer": "ipython3",
   "version": "3.12.5"
  }
 },
 "nbformat": 4,
 "nbformat_minor": 5
}
