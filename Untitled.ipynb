{
 "cells": [
  {
   "cell_type": "code",
   "execution_count": 1,
   "id": "cbbfe1c6-fa22-4245-b3c1-1f16647f557d",
   "metadata": {},
   "outputs": [],
   "source": [
    "import cv2\n",
    "import numpy as np"
   ]
  },
  {
   "cell_type": "code",
   "execution_count": 12,
   "id": "b7580b50-c643-4752-952a-b23586d95c8a",
   "metadata": {},
   "outputs": [
    {
     "name": "stdout",
     "output_type": "stream",
     "text": [
      "(600, 500, 3)\n"
     ]
    }
   ],
   "source": [
    "img = cv2.imread(\"img/wave.jpg\")\n",
    "img = cv2.resize(img,(500,600))\n",
    "print(img.shape)\n",
    "\n",
    "crop = img[100:450,:]\n",
    "cv2.imshow(\"crop\",crop)\n",
    "cv2.imshow(\"sam\",img)\n",
    "cv2.waitKey(0)\n",
    "cv2.destroyAllWindows()"
   ]
  },
  {
   "cell_type": "code",
   "execution_count": 5,
   "id": "6af59d13-3555-413b-87d4-aaab611f9c03",
   "metadata": {},
   "outputs": [],
   "source": [
    "new_img = np.zeros((500,500,3),np.uint8)*255                #ones for white image \n",
    "                                                           #zeros for black image\n",
    "cv2.imshow('sak',new_img)\n",
    "cv2.waitKey(0)\n",
    "cv2.destroyAllWindows()"
   ]
  },
  {
   "cell_type": "code",
   "execution_count": null,
   "id": "6a5a8f6c-8030-4589-919e-30a1f0b4696a",
   "metadata": {},
   "outputs": [],
   "source": []
  }
 ],
 "metadata": {
  "kernelspec": {
   "display_name": "Python 3 (ipykernel)",
   "language": "python",
   "name": "python3"
  },
  "language_info": {
   "codemirror_mode": {
    "name": "ipython",
    "version": 3
   },
   "file_extension": ".py",
   "mimetype": "text/x-python",
   "name": "python",
   "nbconvert_exporter": "python",
   "pygments_lexer": "ipython3",
   "version": "3.12.5"
  }
 },
 "nbformat": 4,
 "nbformat_minor": 5
}
