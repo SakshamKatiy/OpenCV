{
 "cells": [
  {
   "cell_type": "code",
   "execution_count": 11,
   "id": "94ad4d7c-29d5-4740-8715-d20313b5064d",
   "metadata": {},
   "outputs": [],
   "source": [
    "import cv2\n",
    "import numpy as np\n"
   ]
  },
  {
   "cell_type": "code",
   "execution_count": 4,
   "id": "f211e538-8ab2-4015-a0b9-81db4e201fa8",
   "metadata": {},
   "outputs": [],
   "source": [
    "img = cv2.imread('img/wave.jpg')\n",
    "cv2.imshow('sak',img)\n",
    "cv2.waitKey(0)\n",
    "cv2.destroyAllWindows()\n",
    "#cv2.destroWindow('sak')"
   ]
  },
  {
   "cell_type": "code",
   "execution_count": 9,
   "id": "dbf37c80-d903-4566-98ab-a5ce3248519d",
   "metadata": {},
   "outputs": [],
   "source": [
    "#resize image\n",
    "img = cv2.imread('img/wave.jpg')\n",
    "img_re = cv2.resize(img,(400,400))\n",
    "cv2.imshow('sak',img_re)\n",
    "cv2.waitKey(0)\n",
    "cv2.destroyAllWindows()"
   ]
  },
  {
   "cell_type": "code",
   "execution_count": 12,
   "id": "b6fae177-70ab-4337-9eb3-343e3f6d330b",
   "metadata": {},
   "outputs": [
    {
     "data": {
      "text/plain": [
       "array([1, 2, 3, 1, 2, 3])"
      ]
     },
     "execution_count": 12,
     "metadata": {},
     "output_type": "execute_result"
    }
   ],
   "source": [
    "#joining of two images\n",
    "v = np.array([1,2,3])\n",
    "np.hstack((v,v))"
   ]
  },
  {
   "cell_type": "code",
   "execution_count": 16,
   "id": "b23d1810-87cc-4a25-b326-c25245199974",
   "metadata": {},
   "outputs": [],
   "source": [
    "img_hstack = np.hstack((img_re,img_re))\n",
    "cv2.imshow('sak',img_hstack)\n",
    "cv2.waitKey(0)\n",
    "cv2.destroyAllWindows()"
   ]
  },
  {
   "cell_type": "code",
   "execution_count": 17,
   "id": "929cf685-f046-4097-a083-31af652a1fc5",
   "metadata": {},
   "outputs": [],
   "source": [
    "img_hstack = np.vstack((img_re,img_re))\n",
    "cv2.imshow('sak',img_hstack)\n",
    "cv2.waitKey(0)\n",
    "cv2.destroyAllWindows()"
   ]
  },
  {
   "cell_type": "code",
   "execution_count": 19,
   "id": "e76a71f4-b564-468c-9fc2-b58d04208c97",
   "metadata": {},
   "outputs": [],
   "source": [
    "img_hstack = np.hstack((img_re,img_re))\n",
    "img_hstack = np.vstack((img_hstack,img_hstack))\n",
    "cv2.imshow('sak',img_hstack)\n",
    "cv2.waitKey(0)\n",
    "cv2.destroyAllWindows()"
   ]
  },
  {
   "cell_type": "code",
   "execution_count": 21,
   "id": "997b7892-6d03-449b-971e-4ef8dd49876a",
   "metadata": {},
   "outputs": [
    {
     "data": {
      "text/plain": [
       "['a.jpg', 'b.jpg', 'bacterial.JPG', 'healthy.jpg', 'leaf.jpg', 'wave.jpg']"
      ]
     },
     "execution_count": 21,
     "metadata": {},
     "output_type": "execute_result"
    }
   ],
   "source": [
    "#slideshow of images\n",
    "import os\n",
    "list_name = os.listdir(r\"C:\\Users\\saksh\\Desktop\\Ojt\\CV\\img\")\n",
    "list_name"
   ]
  },
  {
   "cell_type": "code",
   "execution_count": 26,
   "id": "70ea843d-b885-4f98-9a97-71d63a2ebfc1",
   "metadata": {},
   "outputs": [],
   "source": [
    "for name in list_name:\n",
    "    path = \"C:\\\\Users\\\\saksh\\\\Desktop\\\\Ojt\\\\CV\\\\img\"\n",
    "    img_name = path + \"\\\\\" + name\n",
    "    img = cv2.imread(img_name)\n",
    "    img = cv2.resize(img,(500,600))\n",
    "    cv2.imshow(\"sam\",img)\n",
    "    cv2.waitKey(0)\n",
    "cv2.destroyAllWindows()"
   ]
  },
  {
   "cell_type": "code",
   "execution_count": null,
   "id": "8aa07a22-c639-4469-8e61-f4cd454e58d9",
   "metadata": {},
   "outputs": [],
   "source": []
  }
 ],
 "metadata": {
  "kernelspec": {
   "display_name": "Python 3 (ipykernel)",
   "language": "python",
   "name": "python3"
  },
  "language_info": {
   "codemirror_mode": {
    "name": "ipython",
    "version": 3
   },
   "file_extension": ".py",
   "mimetype": "text/x-python",
   "name": "python",
   "nbconvert_exporter": "python",
   "pygments_lexer": "ipython3",
   "version": "3.12.5"
  }
 },
 "nbformat": 4,
 "nbformat_minor": 5
}
